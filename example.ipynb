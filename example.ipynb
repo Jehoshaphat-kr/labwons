{
 "cells": [
  {
   "cell_type": "code",
   "execution_count": null,
   "metadata": {},
   "outputs": [],
   "source": [
    "import labwons as lw\n",
    "import pandas as pd\n",
    "import plotly.graph_objects as go\n",
    "\n",
    "lw.API.SSYM = \"95012214-44b0-4664-813f-a7ef5ad3b0b4\"\n",
    "lw.API.ECOS = \"CEW3KQU603E6GA8VX0O9\""
   ]
  },
  {
   "cell_type": "code",
   "execution_count": null,
   "metadata": {},
   "outputs": [],
   "source": [
    "pool = lw.MetaData[lw.MetaData['industry'] == 'WI26 반도체'].head(50)\n",
    "\n",
    "market = lw.Market(pool.index)"
   ]
  },
  {
   "cell_type": "code",
   "execution_count": null,
   "metadata": {},
   "outputs": [],
   "source": [
    "market.append('trend.strength()[\"3M\"]', column='trendStrength3M')\n",
    "market.append('trend.gaps()[\"1Y\"]', column='trendGap1Y')\n",
    "# market"
   ]
  },
  {
   "cell_type": "code",
   "execution_count": null,
   "metadata": {},
   "outputs": [],
   "source": [
    "market.scatter(x='trendStrength3M', y='trendGap1Y').show()"
   ]
  }
 ],
 "metadata": {
  "kernelspec": {
   "display_name": "Python 3",
   "language": "python",
   "name": "python3"
  },
  "language_info": {
   "codemirror_mode": {
    "name": "ipython",
    "version": 3
   },
   "file_extension": ".py",
   "mimetype": "text/x-python",
   "name": "python",
   "nbconvert_exporter": "python",
   "pygments_lexer": "ipython3",
   "version": "3.8.6"
  },
  "orig_nbformat": 4
 },
 "nbformat": 4,
 "nbformat_minor": 2
}
