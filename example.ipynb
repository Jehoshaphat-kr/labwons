{
 "cells": [
  {
   "cell_type": "code",
   "execution_count": null,
   "metadata": {},
   "outputs": [],
   "source": [
    "import labwons as lw\n",
    "import pandas as pd\n",
    "import plotly.graph_objects as go\n",
    "\n",
    "lw.API.SSYM = \"95012214-44b0-4664-813f-a7ef5ad3b0b4\"\n",
    "lw.API.ECOS = \"CEW3KQU603E6GA8VX0O9\""
   ]
  },
  {
   "cell_type": "code",
   "execution_count": null,
   "metadata": {},
   "outputs": [],
   "source": [
    "# pool = lw.MetaData[lw.MetaData['industry'] == 'WI26 반도체'].head(50)\n",
    "pool = lw.MetaData[lw.MetaData['industry'] == 'WI26 반도체']\n",
    "\n",
    "market = lw.Market(pool.index)"
   ]
  },
  {
   "cell_type": "code",
   "execution_count": null,
   "metadata": {},
   "outputs": [],
   "source": [
    "market.append('trend.strength()[\"3M\"]', column='trendStrength3M')\n",
    "market.append('trend.gaps()[\"1Y\"]', column='trendGap1Y')\n",
    "market"
   ]
  },
  {
   "cell_type": "code",
   "execution_count": null,
   "metadata": {},
   "outputs": [],
   "source": [
    "market.scatter(x='trendStrength3M', y='trendGap1Y').show()"
   ]
  },
  {
   "cell_type": "code",
   "execution_count": null,
   "metadata": {},
   "outputs": [],
   "source": [
    "etf = lw.Equity('091230')\n",
    "# idx = lw.Indicator('901Y067', '선행지수순환변동치')\n",
    "# idx = lw.Indicator('LOLITOAA', country='KOR')\n",
    "idx = lw.Indicator('UMCSENT', source='FRED', period=10)"
   ]
  },
  {
   "cell_type": "code",
   "execution_count": null,
   "metadata": {},
   "outputs": [],
   "source": [
    "# etf.quoteType\n",
    "# etf.bollingerBand.show(\n",
    "#     height=750\n",
    "# )\n",
    "fig = lw.MultiChart.f1x1y2()\n",
    "fig.add_trace(etf.ohlcv.t(), secondary_y = False)\n",
    "fig.add_trace(idx(), secondary_y = True)\n",
    "fig.update_layout(\n",
    "    height=750,\n",
    "    yaxis_title=etf.name,\n",
    "    yaxis2_title=idx.name\n",
    ")\n",
    "fig.show()"
   ]
  }
 ],
 "metadata": {
  "kernelspec": {
   "display_name": "Python 3",
   "language": "python",
   "name": "python3"
  },
  "language_info": {
   "codemirror_mode": {
    "name": "ipython",
    "version": 3
   },
   "file_extension": ".py",
   "mimetype": "text/x-python",
   "name": "python",
   "nbconvert_exporter": "python",
   "pygments_lexer": "ipython3",
   "version": "3.10.3"
  },
  "orig_nbformat": 4
 },
 "nbformat": 4,
 "nbformat_minor": 2
}
