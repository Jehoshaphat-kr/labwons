{
 "cells": [
  {
   "cell_type": "code",
   "execution_count": 1,
   "metadata": {},
   "outputs": [],
   "source": [
    "from tqdm.notebook import tqdm\n",
    "import labwons as lw\n",
    "import pandas as pd\n",
    "import plotly.graph_objects as go\n",
    "\n",
    "lw.API.SSYM = \"95012214-44b0-4664-813f-a7ef5ad3b0b4\"\n",
    "lw.API.ECOS = \"CEW3KQU603E6GA8VX0O9\""
   ]
  },
  {
   "cell_type": "code",
   "execution_count": 2,
   "metadata": {},
   "outputs": [],
   "source": [
    "def eq(ticker:str) -> lw.Equity:\n",
    "    if not f'_{ticker}_' in globals():\n",
    "        globals()[f'_{ticker}_'] = lw.Equity(ticker)\n",
    "    return globals()[f'_{ticker}_']  "
   ]
  },
  {
   "cell_type": "code",
   "execution_count": 3,
   "metadata": {},
   "outputs": [
    {
     "data": {
      "application/vnd.jupyter.widget-view+json": {
       "model_id": "c263a01ddda9491eb298e39aa6f70614",
       "version_major": 2,
       "version_minor": 0
      },
      "text/plain": [
       "  0%|          | 0/141 [00:00<?, ?it/s]"
      ]
     },
     "metadata": {},
     "output_type": "display_data"
    },
    {
     "data": {
      "text/html": [
       "<div>\n",
       "<style scoped>\n",
       "    .dataframe tbody tr th:only-of-type {\n",
       "        vertical-align: middle;\n",
       "    }\n",
       "\n",
       "    .dataframe tbody tr th {\n",
       "        vertical-align: top;\n",
       "    }\n",
       "\n",
       "    .dataframe thead th {\n",
       "        text-align: right;\n",
       "    }\n",
       "</style>\n",
       "<table border=\"1\" class=\"dataframe\">\n",
       "  <thead>\n",
       "    <tr style=\"text-align: right;\">\n",
       "      <th></th>\n",
       "      <th>0</th>\n",
       "      <th>1</th>\n",
       "      <th>2</th>\n",
       "      <th>3</th>\n",
       "      <th>4</th>\n",
       "      <th>5</th>\n",
       "    </tr>\n",
       "  </thead>\n",
       "  <tbody>\n",
       "    <tr>\n",
       "      <th>000660</th>\n",
       "      <td>0.307918</td>\n",
       "      <td>1.546204</td>\n",
       "      <td>1.953007</td>\n",
       "      <td>0.627400</td>\n",
       "      <td>-1.689967</td>\n",
       "      <td>-0.530010</td>\n",
       "    </tr>\n",
       "    <tr>\n",
       "      <th>000990</th>\n",
       "      <td>-1.537033</td>\n",
       "      <td>-0.352522</td>\n",
       "      <td>0.376602</td>\n",
       "      <td>-2.014253</td>\n",
       "      <td>-0.777881</td>\n",
       "      <td>1.244204</td>\n",
       "    </tr>\n",
       "    <tr>\n",
       "      <th>003160</th>\n",
       "      <td>0.235854</td>\n",
       "      <td>0.769478</td>\n",
       "      <td>1.960284</td>\n",
       "      <td>0.150683</td>\n",
       "      <td>-0.443003</td>\n",
       "      <td>1.142101</td>\n",
       "    </tr>\n",
       "    <tr>\n",
       "      <th>005290</th>\n",
       "      <td>-1.491403</td>\n",
       "      <td>-0.205916</td>\n",
       "      <td>0.272053</td>\n",
       "      <td>-1.102432</td>\n",
       "      <td>-1.615029</td>\n",
       "      <td>-0.463537</td>\n",
       "    </tr>\n",
       "    <tr>\n",
       "      <th>005930</th>\n",
       "      <td>-0.381479</td>\n",
       "      <td>1.452638</td>\n",
       "      <td>1.966820</td>\n",
       "      <td>0.028078</td>\n",
       "      <td>-0.232727</td>\n",
       "      <td>3.768530</td>\n",
       "    </tr>\n",
       "    <tr>\n",
       "      <th>...</th>\n",
       "      <td>...</td>\n",
       "      <td>...</td>\n",
       "      <td>...</td>\n",
       "      <td>...</td>\n",
       "      <td>...</td>\n",
       "      <td>...</td>\n",
       "    </tr>\n",
       "    <tr>\n",
       "      <th>412350</th>\n",
       "      <td>1.521532</td>\n",
       "      <td>0.121921</td>\n",
       "      <td>0.081677</td>\n",
       "      <td>NaN</td>\n",
       "      <td>NaN</td>\n",
       "      <td>NaN</td>\n",
       "    </tr>\n",
       "    <tr>\n",
       "      <th>417500</th>\n",
       "      <td>-1.330440</td>\n",
       "      <td>0.470649</td>\n",
       "      <td>NaN</td>\n",
       "      <td>NaN</td>\n",
       "      <td>NaN</td>\n",
       "      <td>NaN</td>\n",
       "    </tr>\n",
       "    <tr>\n",
       "      <th>417840</th>\n",
       "      <td>-0.617042</td>\n",
       "      <td>2.546089</td>\n",
       "      <td>NaN</td>\n",
       "      <td>NaN</td>\n",
       "      <td>NaN</td>\n",
       "      <td>NaN</td>\n",
       "    </tr>\n",
       "    <tr>\n",
       "      <th>425040</th>\n",
       "      <td>-1.443166</td>\n",
       "      <td>1.277481</td>\n",
       "      <td>NaN</td>\n",
       "      <td>NaN</td>\n",
       "      <td>NaN</td>\n",
       "      <td>NaN</td>\n",
       "    </tr>\n",
       "    <tr>\n",
       "      <th>425420</th>\n",
       "      <td>3.204203</td>\n",
       "      <td>2.241110</td>\n",
       "      <td>NaN</td>\n",
       "      <td>NaN</td>\n",
       "      <td>NaN</td>\n",
       "      <td>NaN</td>\n",
       "    </tr>\n",
       "  </tbody>\n",
       "</table>\n",
       "<p>135 rows × 6 columns</p>\n",
       "</div>"
      ],
      "text/plain": [
       "               0         1         2         3         4         5\n",
       "000660  0.307918  1.546204  1.953007  0.627400 -1.689967 -0.530010\n",
       "000990 -1.537033 -0.352522  0.376602 -2.014253 -0.777881  1.244204\n",
       "003160  0.235854  0.769478  1.960284  0.150683 -0.443003  1.142101\n",
       "005290 -1.491403 -0.205916  0.272053 -1.102432 -1.615029 -0.463537\n",
       "005930 -0.381479  1.452638  1.966820  0.028078 -0.232727  3.768530\n",
       "...          ...       ...       ...       ...       ...       ...\n",
       "412350  1.521532  0.121921  0.081677       NaN       NaN       NaN\n",
       "417500 -1.330440  0.470649       NaN       NaN       NaN       NaN\n",
       "417840 -0.617042  2.546089       NaN       NaN       NaN       NaN\n",
       "425040 -1.443166  1.277481       NaN       NaN       NaN       NaN\n",
       "425420  3.204203  2.241110       NaN       NaN       NaN       NaN\n",
       "\n",
       "[135 rows x 6 columns]"
      ]
     },
     "execution_count": 3,
     "metadata": {},
     "output_type": "execute_result"
    }
   ],
   "source": [
    "pool = lw.MetaData[lw.MetaData['industry'] == 'WI26 반도체']\n",
    "loop = tqdm(pool.index)\n",
    "objs_gaps = list()\n",
    "objs_trds = list()\n",
    "for ticker in loop:\n",
    "    loop.set_description(ticker)\n",
    "    if len(eq(ticker).ohlcv) < 126:\n",
    "        continue\n",
    "    objs_gaps.append(eq(ticker).trend.gaps())\n",
    "    # objs_trds.append(eq(ticker).trend.strength())\n",
    "gaps = pd.concat(objs=objs_gaps, axis=0)\n",
    "# trends = pd.concat(objs=objs_trds, axis=0)\n",
    "gaps"
   ]
  },
  {
   "cell_type": "code",
   "execution_count": 4,
   "metadata": {},
   "outputs": [
    {
     "ename": "KeyError",
     "evalue": "'1Y'",
     "output_type": "error",
     "traceback": [
      "\u001b[1;31m---------------------------------------------------------------------------\u001b[0m",
      "\u001b[1;31mKeyError\u001b[0m                                  Traceback (most recent call last)",
      "Cell \u001b[1;32mIn[4], line 1\u001b[0m\n\u001b[1;32m----> 1\u001b[0m df \u001b[39m=\u001b[39m gaps\u001b[39m.\u001b[39;49msort_values(by\u001b[39m=\u001b[39;49m\u001b[39m'\u001b[39;49m\u001b[39m1Y\u001b[39;49m\u001b[39m'\u001b[39;49m)\n\u001b[0;32m      2\u001b[0m df\n",
      "File \u001b[1;32mc:\\Users\\wpgur\\AppData\\Local\\Programs\\Python\\Python310\\lib\\site-packages\\pandas\\core\\frame.py:6758\u001b[0m, in \u001b[0;36mDataFrame.sort_values\u001b[1;34m(self, by, axis, ascending, inplace, kind, na_position, ignore_index, key)\u001b[0m\n\u001b[0;32m   6754\u001b[0m \u001b[39melif\u001b[39;00m \u001b[39mlen\u001b[39m(by):\n\u001b[0;32m   6755\u001b[0m     \u001b[39m# len(by) == 1\u001b[39;00m\n\u001b[0;32m   6757\u001b[0m     by \u001b[39m=\u001b[39m by[\u001b[39m0\u001b[39m]\n\u001b[1;32m-> 6758\u001b[0m     k \u001b[39m=\u001b[39m \u001b[39mself\u001b[39;49m\u001b[39m.\u001b[39;49m_get_label_or_level_values(by, axis\u001b[39m=\u001b[39;49maxis)\n\u001b[0;32m   6760\u001b[0m     \u001b[39m# need to rewrap column in Series to apply key function\u001b[39;00m\n\u001b[0;32m   6761\u001b[0m     \u001b[39mif\u001b[39;00m key \u001b[39mis\u001b[39;00m \u001b[39mnot\u001b[39;00m \u001b[39mNone\u001b[39;00m:\n\u001b[0;32m   6762\u001b[0m         \u001b[39m# error: Incompatible types in assignment (expression has type\u001b[39;00m\n\u001b[0;32m   6763\u001b[0m         \u001b[39m# \"Series\", variable has type \"ndarray\")\u001b[39;00m\n",
      "File \u001b[1;32mc:\\Users\\wpgur\\AppData\\Local\\Programs\\Python\\Python310\\lib\\site-packages\\pandas\\core\\generic.py:1778\u001b[0m, in \u001b[0;36mNDFrame._get_label_or_level_values\u001b[1;34m(self, key, axis)\u001b[0m\n\u001b[0;32m   1776\u001b[0m     values \u001b[39m=\u001b[39m \u001b[39mself\u001b[39m\u001b[39m.\u001b[39maxes[axis]\u001b[39m.\u001b[39mget_level_values(key)\u001b[39m.\u001b[39m_values\n\u001b[0;32m   1777\u001b[0m \u001b[39melse\u001b[39;00m:\n\u001b[1;32m-> 1778\u001b[0m     \u001b[39mraise\u001b[39;00m \u001b[39mKeyError\u001b[39;00m(key)\n\u001b[0;32m   1780\u001b[0m \u001b[39m# Check for duplicates\u001b[39;00m\n\u001b[0;32m   1781\u001b[0m \u001b[39mif\u001b[39;00m values\u001b[39m.\u001b[39mndim \u001b[39m>\u001b[39m \u001b[39m1\u001b[39m:\n",
      "\u001b[1;31mKeyError\u001b[0m: '1Y'"
     ]
    }
   ],
   "source": [
    "df = gaps.sort_values(by='1Y')\n",
    "df"
   ]
  }
 ],
 "metadata": {
  "kernelspec": {
   "display_name": "Python 3",
   "language": "python",
   "name": "python3"
  },
  "language_info": {
   "codemirror_mode": {
    "name": "ipython",
    "version": 3
   },
   "file_extension": ".py",
   "mimetype": "text/x-python",
   "name": "python",
   "nbconvert_exporter": "python",
   "pygments_lexer": "ipython3",
   "version": "3.10.3"
  },
  "orig_nbformat": 4
 },
 "nbformat": 4,
 "nbformat_minor": 2
}
