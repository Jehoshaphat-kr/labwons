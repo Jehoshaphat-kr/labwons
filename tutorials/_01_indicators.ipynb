{
 "cells": [
  {
   "cell_type": "code",
   "execution_count": 1,
   "metadata": {},
   "outputs": [
    {
     "name": "stdout",
     "output_type": "stream",
     "text": [
      "d:\\J.H.LEE\\05. CODING\\Python\\Project\\labwons\n"
     ]
    }
   ],
   "source": [
    "cd .."
   ]
  },
  {
   "cell_type": "code",
   "execution_count": 2,
   "metadata": {},
   "outputs": [],
   "source": [
    "import labwons as lw\n",
    "\n",
    "lw.API.SSYM = \"95012214-44b0-4664-813f-a7ef5ad3b0b4\"\n",
    "lw.API.ECOS = \"CEW3KQU603E6GA8VX0O9\""
   ]
  },
  {
   "attachments": {},
   "cell_type": "markdown",
   "metadata": {},
   "source": [
    "# Kinds of Indicators"
   ]
  },
  {
   "attachments": {},
   "cell_type": "markdown",
   "metadata": {},
   "source": [
    "## Source 1. ECOS\n",
    "\n",
    "- URL: https://ecos.bok.or.kr/#/SearchStat\n",
    "- "
   ]
  },
  {
   "cell_type": "code",
   "execution_count": null,
   "metadata": {},
   "outputs": [],
   "source": [
    "KRTY1Y = lw.Indicator('817Y002', '국고채(1년)', unit='%')\n",
    "print(f\"데이터 이름: {KRTY1Y.name}\")\n",
    "print(f\"데이터 주기: {KRTY1Y.period}\")\n",
    "print(f\"데이터 시작: {KRTY1Y.index[0]}\")\n",
    "print(f\"데이터 종료: {KRTY1Y.index[-1]}\")\n",
    "print(f\"데이터 단위: {KRTY1Y.unit}\")\n",
    "print(\"데이터\")\n",
    "print(KRTY1Y)"
   ]
  },
  {
   "cell_type": "code",
   "execution_count": null,
   "metadata": {},
   "outputs": [],
   "source": [
    "KRTY1Y.show()"
   ]
  },
  {
   "cell_type": "code",
   "execution_count": null,
   "metadata": {},
   "outputs": [],
   "source": [
    "print(KRTY1Y.Monthly)"
   ]
  },
  {
   "cell_type": "code",
   "execution_count": null,
   "metadata": {},
   "outputs": [],
   "source": [
    "KRTY1Y.Monthly.show()"
   ]
  }
 ],
 "metadata": {
  "kernelspec": {
   "display_name": "Python 3",
   "language": "python",
   "name": "python3"
  },
  "language_info": {
   "codemirror_mode": {
    "name": "ipython",
    "version": 3
   },
   "file_extension": ".py",
   "mimetype": "text/x-python",
   "name": "python",
   "nbconvert_exporter": "python",
   "pygments_lexer": "ipython3",
   "version": "3.8.6"
  },
  "orig_nbformat": 4
 },
 "nbformat": 4,
 "nbformat_minor": 2
}
